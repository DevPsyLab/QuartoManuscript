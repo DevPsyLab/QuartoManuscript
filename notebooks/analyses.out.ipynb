{
 "cells": [
  {
   "cell_type": "markdown",
   "metadata": {},
   "source": [
    "# Analyses\n",
    "\n",
    "Insert Author’s Name Here  \n",
    "September 27, 2025\n",
    "\n",
    "# Intro\n",
    "\n",
    "This is a starter file for your “Computational Notebook” script. This script be used to run analyses using the data file(s). This script should be separate from the “Prepare Data” file that is used for update the data file(s). Every time you run the “Computational Notebook” file with the exact same data, you should get the exact same findings (i.e., reproducibility). Thus, we keep the “Prepare Data script” separate from the “Computational Notebook” file so that you update the data only when you intend to.\n",
    "\n",
    "This document is a [Quarto](https://quarto.org) Notebook, which is an example of a computational notebook. Best practices for using Markdown are in the Lab Wiki here: <https://devpsylab.github.io/DataAnalysis/markdown.html#bestPractices>. Steps for working with computational notebooks are located in the Lab Wiki here: <https://devpsylab.github.io/DataAnalysis/markdown.html#computationalNotebook>\n",
    "\n",
    "This document is a [Quarto](https://quarto.org) Notebook. Quarto enables you to weave together content and executable code into a finished document. When you execute code within the notebook, the results appear beneath the code. This allows you to share your analyses and results with others so that they can see the results in line with the code for reproducibility. Make sure to have only one sentence per line. For more information on the value of computational notebooks, see the article titled “[The Scientific Paper Is Obsolete](https://www.theatlantic.com/science/archive/2018/04/the-scientific-paper-is-obsolete/556676/)”. To learn more about Quarto see <https://quarto.org>.\n",
    "\n",
    "# Preamble\n",
    "\n",
    "## Install Libraries"
   ],
   "id": "ad552838-3584-4240-b8fb-b4f393311116"
  },
  {
   "cell_type": "code",
   "execution_count": null,
   "metadata": {},
   "outputs": [],
   "source": [
    "#install.packages(\"remotes\")\n",
    "#remotes::install_github(\"DevPsyLab/petersenlab\")\n"
   ],
   "id": "b7325aa6-27e3-41da-845b-87f13f804c5c"
  },
  {
   "cell_type": "markdown",
   "metadata": {},
   "source": [
    "## Load Libraries"
   ],
   "id": "262a1b86-ac7f-4124-a4e5-95621d4081c1"
  },
  {
   "cell_type": "code",
   "execution_count": null,
   "metadata": {},
   "outputs": [
    {
     "output_type": "stream",
     "name": "stderr",
     "text": [
      "── Attaching core tidyverse packages ──────────────────────── tidyverse 2.0.0 ──\n",
      "✔ dplyr     1.1.4     ✔ readr     2.1.5\n",
      "✔ forcats   1.0.1     ✔ stringr   1.5.2\n",
      "✔ ggplot2   4.0.0     ✔ tibble    3.3.0\n",
      "✔ lubridate 1.9.4     ✔ tidyr     1.3.1\n",
      "✔ purrr     1.1.0     \n",
      "── Conflicts ────────────────────────────────────────── tidyverse_conflicts() ──\n",
      "✖ dplyr::filter() masks stats::filter()\n",
      "✖ dplyr::lag()    masks stats::lag()\n",
      "ℹ Use the conflicted package (<http://conflicted.r-lib.org/>) to force all conflicts to become errors"
     ]
    },
    {
     "output_type": "stream",
     "name": "stderr",
     "text": [
      "Loading required package: showtextdb"
     ]
    }
   ],
   "source": [
    "\n",
    "library(\"petersenlab\") #located here: https://github.com/DevPsyLab/petersenlab\n",
    "library(\"tidyverse\")\n"
   ],
   "id": "b2d8b520-d96f-4b18-b457-8e438825bf39"
  },
  {
   "cell_type": "markdown",
   "metadata": {},
   "source": [
    "## Import Font for Figures\n",
    "\n",
    "To use the fonts, download and install the fonts located here[1]: <https://drive.google.com/drive/u/0/folders/1fqlrnEe7NFnWZoIrsHmr8ulDS4nhs-H3>\n",
    "\n",
    "[1] You may need to ask Dr. Petersen to get access to this file."
   ],
   "id": "60e81ec5-4677-4d28-9044-25f61311f0dc"
  },
  {
   "cell_type": "code",
   "execution_count": null,
   "metadata": {},
   "outputs": [],
   "source": [
    "\n",
    "#Add Gotham Fonts\n",
    "#sysfonts::font_add(\n",
    "#  family = \"Gotham\",\n",
    "#  regular = \"Gotham-Book.otf\",\n",
    "#  bold = \"Gotham-Bold.otf\",\n",
    "#  italic = \"Gotham-BookItalic.otf\",\n",
    "#  bolditalic = \"Gotham-BoldItalic.otf\")\n",
    "#\n",
    "#showtext::showtext_auto()\n"
   ],
   "id": "606ddb52-3912-40ed-942f-e669994387ca"
  },
  {
   "cell_type": "markdown",
   "metadata": {},
   "source": [
    "## Load Data\n",
    "\n",
    "# Specify Variables\n",
    "\n",
    "# Analyses\n",
    "\n",
    "# Session Info"
   ],
   "id": "bbd78519-f1ca-40c3-abbf-2be08e992a3f"
  },
  {
   "cell_type": "code",
   "execution_count": null,
   "metadata": {},
   "outputs": [
    {
     "output_type": "stream",
     "name": "stdout",
     "text": [
      "R version 4.5.1 (2025-06-13)\n",
      "Platform: x86_64-pc-linux-gnu\n",
      "Running under: Ubuntu 24.04.3 LTS\n",
      "\n",
      "Matrix products: default\n",
      "BLAS:   /usr/lib/x86_64-linux-gnu/openblas-pthread/libblas.so.3 \n",
      "LAPACK: /usr/lib/x86_64-linux-gnu/openblas-pthread/libopenblasp-r0.3.26.so;  LAPACK version 3.12.0\n",
      "\n",
      "locale:\n",
      " [1] LC_CTYPE=C.UTF-8       LC_NUMERIC=C           LC_TIME=C.UTF-8       \n",
      " [4] LC_COLLATE=C.UTF-8     LC_MONETARY=C.UTF-8    LC_MESSAGES=C.UTF-8   \n",
      " [7] LC_PAPER=C.UTF-8       LC_NAME=C              LC_ADDRESS=C          \n",
      "[10] LC_TELEPHONE=C         LC_MEASUREMENT=C.UTF-8 LC_IDENTIFICATION=C   \n",
      "\n",
      "time zone: UTC\n",
      "tzcode source: system (glibc)\n",
      "\n",
      "attached base packages:\n",
      "[1] stats     graphics  grDevices utils     datasets  methods   base     \n",
      "\n",
      "other attached packages:\n",
      " [1] showtext_0.9-7    showtextdb_3.0    sysfonts_0.8.9    lubridate_1.9.4  \n",
      " [5] forcats_1.0.1     stringr_1.5.2     dplyr_1.1.4       purrr_1.1.0      \n",
      " [9] readr_2.1.5       tidyr_1.3.1       tibble_3.3.0      ggplot2_4.0.0    \n",
      "[13] tidyverse_2.0.0   petersenlab_1.2.0\n",
      "\n",
      "loaded via a namespace (and not attached):\n",
      " [1] tidyselect_1.2.1   psych_2.5.6        viridisLite_0.4.2  farver_2.1.2      \n",
      " [5] S7_0.2.0           fastmap_1.2.0      digest_0.6.37      rpart_4.1.24      \n",
      " [9] timechange_0.3.0   lifecycle_1.0.4    cluster_2.1.8.1    magrittr_2.0.4    \n",
      "[13] compiler_4.5.1     rlang_1.1.6        Hmisc_5.2-3        tools_4.5.1       \n",
      "[17] yaml_2.3.10        data.table_1.17.8  knitr_1.50         htmlwidgets_1.6.4 \n",
      "[21] mnormt_2.1.1       plyr_1.8.9         RColorBrewer_1.1-3 foreign_0.8-90    \n",
      "[25] withr_3.0.2        nnet_7.3-20        grid_4.5.1         stats4_4.5.1      \n",
      "[29] lavaan_0.6-20      xtable_1.8-4       colorspace_2.1-2   scales_1.4.0      \n",
      "[33] MASS_7.3-65        cli_3.6.5          mvtnorm_1.3-3      rmarkdown_2.29    \n",
      "[37] reformulas_0.4.1   generics_0.1.4     rstudioapi_0.17.1  reshape2_1.4.4    \n",
      "[41] tzdb_0.5.0         minqa_1.2.8        DBI_1.2.3          splines_4.5.1     \n",
      "[45] parallel_4.5.1     base64enc_0.1-3    mitools_2.4        vctrs_0.6.5       \n",
      "[49] boot_1.3-31        Matrix_1.7-3       jsonlite_2.0.0     hms_1.1.3         \n",
      "[53] Formula_1.2-5      htmlTable_2.4.3    glue_1.8.0         nloptr_2.2.1      \n",
      "[57] stringi_1.8.7      gtable_0.3.6       quadprog_1.5-8     lme4_1.1-37       \n",
      "[61] pillar_1.11.1      htmltools_0.5.8.1  R6_2.6.1           Rdpack_2.6.4      \n",
      "[65] mix_1.0-13         evaluate_1.0.5     pbivnorm_0.6.0     lattice_0.22-7    \n",
      "[69] rbibutils_2.3      backports_1.5.0    Rcpp_1.1.0         gridExtra_2.3     \n",
      "[73] nlme_3.1-168       checkmate_2.3.3    xfun_0.53          pkgconfig_2.0.3   "
     ]
    }
   ],
   "source": [
    "sessionInfo()\n"
   ],
   "id": "ba5a4b42-3e3b-4ccc-93cf-3f92e9eef39d"
  },
  {
   "cell_type": "markdown",
   "metadata": {},
   "source": [
    "## Rstudio Version"
   ],
   "id": "54ce02b5-3efd-4066-b61e-fa0c429fe5c4"
  },
  {
   "cell_type": "code",
   "execution_count": null,
   "metadata": {},
   "outputs": [],
   "source": [
    "#rstudioapi::versionInfo()\n"
   ],
   "id": "d9366c43-7e71-41ea-809f-6a58b2a6b7f4"
  }
 ],
 "nbformat": 4,
 "nbformat_minor": 5,
 "metadata": {}
}
